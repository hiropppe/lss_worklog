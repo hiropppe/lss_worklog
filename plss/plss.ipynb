{
 "cells": [
  {
   "cell_type": "raw",
   "id": "2520e8bd-39a4-433d-9ac9-712d63f45b17",
   "metadata": {},
   "source": [
    "---\n",
    "title: \"テキストの連続的な尺度推定 (2) ~ PLSS ~\"\n",
    "author: \"take\"\n",
    "date: \"2024/3/19\"\n",
    "format:\n",
    "  html:\n",
    "    toc: true\n",
    "    toc-depth: 4\n",
    "    toc-expand: 4\n",
    "    code-fold: false\n",
    "    code-tools: true\n",
    "    page-layout: article\n",
    "execute:\n",
    "  echo: true\n",
    "  output: true\n",
    "jupyter: python3\n",
    "---"
   ]
  },
  {
   "cell_type": "markdown",
   "id": "57d15776-fe0a-4120-8141-16dd39f93c62",
   "metadata": {
    "tags": []
   },
   "source": [
    "# 確率的潜在意味スケーリング (PLSS)\n",
    "LSS を項目反応理論 (IRT) をもとに統計モデルとして確率化したテキストの潜在的な尺度に対応する連続値を扱うことのできるモデル\n",
    "\n",
    "確率的潜在意味スケーリング (Probabilistic Latent Semantic Scaling)  \n",
    "http://chasen.org/~daiti-m/paper/nl249plss.pdf\n",
    "\n",
    "## 項目反応理論 (IRT)\n",
    "心理統計学の分野で開発された方法論で、テストの結果から被験者の潜在的な能力あるいは傾向 $\\theta$ を推定することを目的とする。被験者の $\\theta$ は標準正規分布 $\\mathcal{N}(0,1)$ に従っていると仮定する。\n",
    "$$\n",
    "\\theta \\sim \\mathcal{N}(0, 1) \\tag{4}\n",
    "$$\n",
    "\n",
    "被験者 $i$ の問題 $j$ 対する正答確率 $p_{ij}$ は次のようにモデル化される。\n",
    "$$\n",
    "p_{ij} = \\sigma(\\alpha_j(\\theta_i-\\beta_j)) \\tag{5}\n",
    "$$\n",
    "\n",
    "$\\sigma(x)=\\frac{1}{1+e^{-x}}$ は、ロジスティック（シグモイド）関数。問 $j$ への正答率は問題の難易度を表す $\\beta_j$ を境に、$\\alpha_j$ に比例する確率で上昇することを表している。\n",
    "\n",
    "観測データとして$Y = \\{y_{ij}\\}_{i,j}$ を考え、$y_{ij}$ は被験者$i$が問 $j$ に正答した時 1, 誤ったときに 0 とすると、$Y$ の確率は下記のようにあらわすことができる。\n",
    "$$\n",
    "\\begin{align}\n",
    "p(Y|\\alpha, \\beta, \\theta) &= \\prod_i\\prod_j Bernoulli (y_{ij}|p_{iij}) \\tag{6} \\\\\n",
    "&= \\prod_i\\prod_j Bernoulli (y_{ij}|\\sigma(\\alpha_j(\\theta_i-\\beta_j))) \\tag{7}\n",
    "\\end{align}\n",
    "$$\n",
    "\n",
    "IRT では事前確率 (4) の下で尤度 (7) を最大にするパラメータ ${\\alpha_i, \\beta_j}$ を求め、同時に被験者の能力 ${\\theta_i}$ を推定する。\n",
    "\n",
    "## PLSS の生成過程\n",
    "PLSS ではまず式 (5) を多項分布に拡張する形で、テキストにおける単語 $v$ の確率を次のようにモデル化する。\n",
    "$$\n",
    "\\begin{align}\n",
    "p(v|\\theta,\\phi) &\\propto p(v)exp(\\theta \\cdot \\phi_v) \\tag{8} \\\\\n",
    "&= \\frac{exp(\\log p(v) + \\theta \\cdot \\phi_v)}{\\sum^V_{v=1}exp(\\log p(v)+\\theta \\cdot \\phi_v)} \\tag{9}\n",
    "\\end{align}\n",
    "$$\n",
    "Wordfish 同様に $\\phi_v \\in \\mathbb{R}$ は、単語 $v$ の潜在的な極性、$\\theta \\sim \\mathcal{N}(0, 1)$ は、テキストの潜在的な極性を表す。  \n",
    "このモデルは、IRT の多項分布化、あるいは式 (9) で表される多項ロジスティック回帰において、$\\theta$ も $\\phi$ も未知の場合の教師なし学習とみなすことができる。\n",
    "\n",
    "このとき、テキスト $d$ の確率は単語 $v$ のテキスト内での頻度を $n_{dv}$ とおくと\n",
    "$$\n",
    "p(d|\\theta,\\phi) = \\prod^V_{v=1} p(v|\\theta,\\phi)^{n_{dv}} \\tag{10}\n",
    "$$\n",
    "と書けるので、$D$ 個のテキストからなるコーパス $D$ 全体の確率は、\n",
    "$$\n",
    "p(D|\\Theta,\\phi) = \\prod^{D}_{d=1}\\prod^{V}_{v=1} p(v|\\theta_d,\\phi)^{n_{dv}} \\tag{11}\n",
    "$$\n",
    "と表せる。\n",
    "\n",
    "式 (11) は、mcmc や最適化でパラメータを推定することが可能だが、$\\phi_1,\\cdots,\\phi_V$ を独立に学習するため、単語間の意味的関係を扱えないという問題がある。\n",
    "PLSS では、単語極性 $\\phi$ をニューラル単語ベクトルを用いて設計する事でこれに対処している。\n",
    "\n",
    "## 単語極性の設計\n",
    "PLSS では、を $K$ 次元のニューラル単語ベクトル $\\vec{v}$ を用いて、$\\phi_v$ を下記の通り計算する。\n",
    "$$\n",
    "\\phi_v = \\boldsymbol{\\beta}^T\\vec{v}\n",
    "$$\n",
    "これにより、各単語の $\\phi$ を独立に推定する代わりに $K$ 次元の係数ベクトル $\\boldsymbol{\\beta}$ を１つ推定するだけでよくなる。 \n",
    "この $\\boldsymbol{\\beta}$ は、単語埋め込みベクトル空間における\"良い-悪い\", \"右翼-左翼\"のような $\\theta$ の極性を与える「意味方向（極性軸）」を表している。  \n",
    "\n",
    "これによって、式 (9) は、\n",
    "$$\n",
    "\\begin{align}\n",
    "p(v|\\theta,\\boldsymbol{\\beta}) &= \\frac{exp(\\log p(v) + \\theta \\cdot \\boldsymbol{\\beta}^T\\vec{v})}{\\sum^V_{v=1}exp(\\log p(v)+\\theta \\cdot \\boldsymbol{\\beta}^T\\vec{v})} \\tag{12}\n",
    "\\end{align}\n",
    "$$\n",
    "と表すことができる。  \n",
    "\n",
    "$\\theta$ と $\\boldsymbol{\\beta}$ を式 (11) に基づいて、教師なしで同時推定することも可能だが、これによって学習される $\\boldsymbol{\\beta}$ は、Wordfish 同様に分析の目的に一致しているとは限らないとして、より直接的に単語極性の設計している。  \n",
    "\n",
    "論文では、分析目的の対応した正と負の極性単語集合が与えられた時に、意味方向 $\\boldsymbol{\\beta}$  を計算する方法として、以下の二つをあげている。\n",
    "\n",
    "- 超密埋め込み (Ularadense embedding) [DensRay](https://arxiv.org/abs/1904.08654) \n",
    "- 単純に負の極性語の平均ベクトルから正の極性語の平均ベクトルへの方向ベクトルを用いる方法\n",
    "\n",
    "### DensRay による意味方向の設計\n",
    "＃ ここわかってない\n",
    "\n",
    "語彙集合 $V := \\{v_1, v_2, ..., v_n\\}$ とその埋め込み $E \\in \\mathbb{R}^{n \\times d}$ および、言語的特徴アノテーション $l:V \\to \\{-1,1\\}$ が与えられた時に、$EQ$ が解釈可能となるような、直交行列 $Q \\in \\mathbb{R}^{d \\times d}$ を求めることを目的とする。   \n",
    "これによって求まった、$EQ$ の最初の $k$ 次元を解釈可能な超高密度の単語空間 (interpretable ultradense word space) と呼ぶ。  \n",
    "\n",
    "DensRay では、言語的信号 $L_=:= \\{(v, w) \\in V \\times V |\\; l(v) = l(w)\\}$ および $L_{\\not =}:= \\{(v, w) \\in V \\times V |\\; l(v) {\\not =} l(w)\\}$ が与えられた上で、[Densifier](https://arxiv.org/abs/1602.07572) を修正した、以下の目的関数について最適化する。\n",
    "\n",
    "$$\n",
    "\\begin{align}\n",
    "\\max_q \\sum _ {(v,w) \\in L_{\\not =}} \\alpha_{\\not =} &\\left\\| q^\\intercal d_{vw} \\right\\| _ { 2 }^2- \\nonumber \\\\\n",
    "&\\sum _ { (v,w) \\in L_{=}}  \\alpha_{=}  \\left\\| q^\\intercal d_{vw} \\right\\| _ { 2 }^2 \\tag{13}\n",
    "\\end{align}\n",
    "$$\n",
    "$d_{vw}:= e_v - e_w$, $e_i$ は、$E$ の $i$番目の行ベクトル。$\\text{subject to } q^\\intercal q = 1$, $q \\in \\mathbb{R}^d$. $\\alpha_{\\not =}, \\alpha_{=}  \\in [0, 1]$ はハイパーパラメータ。\n",
    "\n",
    "$\\left\\|x\\right\\|_2^2 = x^\\intercal x$ と行列積の結合法則を用いると式 (13) は次の通り単純化できる。\n",
    "$$\n",
    "\\begin{align}\n",
    "\\max_{q}\\; & q^\\intercal \\Big( \\alpha_{\\not =}  \\sum_{(v,w) \\in L_{\\not =}} d_{vw}d_{vw}^\\intercal - \\\\\n",
    "&\\qquad\\qquad \\alpha_{=}  \\sum_{(v,w) \\in L_{=}} d_{vw}d_{vw}^\\intercal \\Big) q \\nonumber \\tag{14} \\\\\n",
    "& =:\\; \\max_{q}\\; q^\\intercal  A q  \\quad \\text{subject to } q^\\intercal q = 1. \\nonumber \n",
    "\\end{align}\n",
    "$$\n",
    "\n",
    "これは、$A$ と $q$ のレイリー商を最大化することを指す。$A$ は実対称行列である。このとき $A$ の固有ベクトルを、対応する固有値の大きい順に並べた行列が目的の行列 $Q$ となる。$A$ が実対称行列なので $Q$ は常に直交する。\n",
    "\n",
    "$k = 1$ としたとき、$Q$ と $EQ$ のそれぞれ 1 次元目が $\\boldsymbol{\\beta}$ と $\\phi$ に対応する。\n",
    "\n",
    "LSS に付属する以下の標準的な極性辞書を用いて計算された単語の極性値を参考レベルで記載する。  \n",
    "\n",
    "$$\n",
    "\\begin{align}\n",
    "S_+ &:= \\{'good', 'nice', 'excellent', 'positive', 'fortunate', 'correct', 'superior'\\} \\\\\n",
    "S_\\_ &:= \\{'bad', 'nasty', 'poor', 'negative', 'unfortunate', 'wrong', 'inferior'\\}\n",
    "\\end{align}\n",
    "$$"
   ]
  },
  {
   "cell_type": "code",
   "execution_count": 1,
   "id": "43e6a818-c0cc-4961-bf6c-5ed29c293be7",
   "metadata": {},
   "outputs": [],
   "source": [
    "%load_ext rpy2.ipython\n",
    "\n",
    "#from julia.api import Julia\n",
    "#jl = Julia(compiled_modules=False)\n",
    "#%load_ext julia.magic"
   ]
  },
  {
   "cell_type": "code",
   "execution_count": 2,
   "id": "f2793e0b-78cf-4ac7-b456-a625a120a991",
   "metadata": {},
   "outputs": [],
   "source": [
    "import numpy as np\n",
    "import pandas as pd\n",
    "import gensim.downloader as api\n",
    "\n",
    "from sklearn.feature_extraction.text import CountVectorizer"
   ]
  },
  {
   "cell_type": "code",
   "execution_count": 3,
   "id": "f6e861b4-1860-4efc-a8e4-94f1d7670fb7",
   "metadata": {},
   "outputs": [
    {
     "name": "stdout",
     "output_type": "stream",
     "text": [
      "── Attaching core tidyverse packages ──────────────────────── tidyverse 2.0.0 ──\n",
      "✔ dplyr     1.1.4     ✔ readr     2.1.5\n",
      "✔ forcats   1.0.0     ✔ stringr   1.5.1\n",
      "✔ ggplot2   4.0.0     ✔ tibble    3.2.1\n",
      "✔ lubridate 1.9.4     ✔ tidyr     1.3.1\n",
      "✔ purrr     1.0.2     \n",
      "── Conflicts ────────────────────────────────────────── tidyverse_conflicts() ──\n",
      "✖ purrr::%||%()    masks base::%||%()\n",
      "✖ tidyr::extract() masks rstan::extract()\n",
      "✖ dplyr::filter()  masks stats::filter()\n",
      "✖ dplyr::lag()     masks stats::lag()\n",
      "ℹ Use the conflicted package (<http://conflicted.r-lib.org/>) to force all conflicts to become errors\n"
     ]
    },
    {
     "data": {
      "text/plain": [
       "要求されたパッケージ StanHeaders をロード中です\n",
       "\n",
       "rstan version 2.32.5 (Stan version 2.32.2)\n",
       "\n",
       "For execution on a local, multicore CPU with excess RAM we recommend calling\n",
       "options(mc.cores = parallel::detectCores()).\n",
       "To avoid recompilation of unchanged Stan programs, we recommend calling\n",
       "rstan_options(auto_write = TRUE)\n",
       "For within-chain threading using `reduce_sum()` or `map_rect()` Stan functions,\n",
       "change `threads_per_chain` option:\n",
       "rstan_options(threads_per_chain = 1)\n",
       "\n",
       "\n",
       "次のパッケージを付け加えます: ‘gridExtra’\n",
       "\n",
       "以下のオブジェクトは ‘package:dplyr’ からマスクされています:\n",
       "\n",
       "    combine\n",
       "\n",
       "Package version: 4.3.1\n",
       "Unicode version: 14.0\n",
       "ICU version: 70.1\n",
       "Parallel computing: disabled\n",
       "See https://quanteda.io for tutorials and examples.\n"
      ]
     },
     "metadata": {},
     "output_type": "display_data"
    }
   ],
   "source": [
    "%%R\n",
    "library(rstan)\n",
    "library(tidyverse)\n",
    "library(lubridate)\n",
    "library(gridExtra)\n",
    "library(quanteda)"
   ]
  },
  {
   "cell_type": "code",
   "execution_count": 4,
   "id": "de6d905b-ddfc-4b0b-bff2-c65a058d7882",
   "metadata": {},
   "outputs": [],
   "source": [
    "# データ準備"
   ]
  },
  {
   "cell_type": "code",
   "execution_count": 5,
   "id": "a953c34c-36f8-4250-afbd-8e9b99f2d7ba",
   "metadata": {},
   "outputs": [],
   "source": [
    "%%R\n",
    "load(\"../data/YoungSoroka.2012.Rdata\")\n",
    "\n",
    "ys <- YS %>% \n",
    "  as_tibble() %>% \n",
    "  filter(topic == 'Economy') %>%\n",
    "  #filter(topic == 'Foreign') %>%\n",
    "  mutate(date = ymd(str_c(year, month, day))) %>% \n",
    "  mutate(is_pos_1 = if_else(code_1 == 'Positive', TRUE, FALSE)) %>% \n",
    "  mutate(is_neg_1 = if_else(code_1 == 'Negative', TRUE, FALSE)) %>% \n",
    "  mutate(is_pos_2 = if_else(code_2 == 'Positive', TRUE, FALSE)) %>% \n",
    "  mutate(is_neg_2 = if_else(code_2 == 'Negative', TRUE, FALSE)) %>% \n",
    "  mutate(is_pos_3 = if_else(code_3 == 'Positive', TRUE, FALSE)) %>% \n",
    "  mutate(is_neg_3 = if_else(code_3 == 'Negative', TRUE, FALSE)) %>% \n",
    "  mutate(n_pos = is_pos_1 + is_pos_2 + is_pos_3) %>% \n",
    "  mutate(n_neg = is_neg_1 + is_neg_2 + is_neg_3) %>%\n",
    "  mutate(scale = if_else(n_pos == 3, 5, if_else(n_pos ==2, 4, if_else(n_neg == 2, 2, if_else(n_neg == 3, 1, 3)))))\n",
    "\n",
    "corpus <- corpus(ys, text_field = 'body')\n",
    "\n",
    "toks <- corpus %>% \n",
    "  #  corpus_reshape(\"sentences\") %>% \n",
    "  tokens(remove_punct = TRUE, remove_symbols = TRUE, \n",
    "         remove_numbers = TRUE, remove_url = TRUE) %>% \n",
    "  tokens_remove(stopwords(\"en\", source = \"marimo\")) %>% \n",
    "  tokens_remove(min_nchar = 2) %>% \n",
    "  tokens_remove(c(\"*-time\", \"*-timeUpdated\", \"GMT\", \"BST\", \"*.com\")) %>% \n",
    "  tokens_tolower()\n",
    "\n",
    "mx <- toks %>% \n",
    "  dfm()\n",
    "\n",
    "D = ndoc(mx)\n",
    "V = nfeat(mx)\n",
    "\n",
    "df <- convert(mx, to = \"data.frame\")\n",
    "df <- as_tibble(rownames_to_column(df, \"Id\"))\n",
    "\n",
    "cols <- colnames(df)\n",
    "vocab <- cols[3:length(cols)]"
   ]
  },
  {
   "cell_type": "code",
   "execution_count": 6,
   "id": "de3b6f17-7169-40f8-bc5d-5da397834e62",
   "metadata": {},
   "outputs": [],
   "source": [
    "%R -o toks,vocab"
   ]
  },
  {
   "cell_type": "code",
   "execution_count": 7,
   "id": "89384e05-071d-4936-8549-293d0d32baad",
   "metadata": {},
   "outputs": [],
   "source": [
    "r_toks = [toks[k] for k in toks.keys()]\n",
    "r_vocab = list(vocab)"
   ]
  },
  {
   "cell_type": "code",
   "execution_count": 8,
   "id": "03b969ec-206d-49c9-8f5d-5a666288896b",
   "metadata": {},
   "outputs": [],
   "source": [
    "def get_YS_data(r_toks, r_vocab):\n",
    "  docs = []\n",
    "  for toks in r_toks:\n",
    "      docs.append(' '.join([r_vocab[token_id-1] for token_id in toks]))\n",
    "  \n",
    "  lowercase=True\n",
    "  max_df=1.0\n",
    "  min_df=3\n",
    "  max_features=None\n",
    "  \n",
    "  cv = CountVectorizer(binary=False, lowercase=lowercase, max_df=max_df, min_df=min_df, max_features=max_features)\n",
    "  BoW = cv.fit_transform(docs).toarray()\n",
    "  \n",
    "  word2id = cv.vocabulary_\n",
    "  vocab = cv.get_feature_names_out()\n",
    "  \n",
    "  expand_freq = False\n",
    "  \n",
    "  M = len(BoW)\n",
    "  V = len(vocab)\n",
    "  if expand_freq:\n",
    "    # expand n_dv as duplicate rows\n",
    "    doc_ids, token_ids = [], []\n",
    "    for d, doc in enumerate(docs):\n",
    "        for token in doc.strip().split():\n",
    "            if token in word2id:\n",
    "              doc_ids.append(d)\n",
    "              token_ids.append(word2id[token])\n",
    "  \n",
    "    N = len(token_ids)\n",
    "    W = token_ids\n",
    "    D = doc_ids\n",
    "  else:\n",
    "    data_index = np.where(BoW.ravel() > 0)[0]\n",
    "    N = len(data_index)\n",
    "    N_dv = BoW.ravel()[data_index]\n",
    "    D = (data_index/V).astype(int)\n",
    "    W = data_index%V\n",
    "  \n",
    "  p_v = np.sum(BoW, axis=0)/np.sum(BoW)\n",
    "  \n",
    "  return N, M, V, D, W, p_v, vocab, word2id"
   ]
  },
  {
   "cell_type": "code",
   "execution_count": 9,
   "id": "159b8796-1cbc-45e8-95a8-d7a46e205342",
   "metadata": {},
   "outputs": [],
   "source": [
    "#| warning: false\n",
    "\n",
    "wv_model = api.load(\"glove-wiki-gigaword-200\")"
   ]
  },
  {
   "cell_type": "code",
   "execution_count": 10,
   "id": "77f67a0a-5c8b-42a8-85e5-5c2f6cd59312",
   "metadata": {},
   "outputs": [],
   "source": [
    "## imbalanced polarity words\n",
    "#pos_words = [w[0] for w in sorted([(w, wv_model.similarity('good', w)) for w in pos_words], key=lambda x: x[1])[:3]]\n",
    "#neg_words = [w[0] for w in sorted([(w, wv_model.similarity('bad', w)) for w in neg_words], key=lambda x: x[1])[-3:]]"
   ]
  },
  {
   "cell_type": "code",
   "execution_count": 11,
   "id": "2b95793a-d521-417b-9827-6069799089a6",
   "metadata": {},
   "outputs": [],
   "source": [
    "N, M, V, D, W, p_v, vocab, word2id = get_YS_data(r_toks, r_vocab)"
   ]
  },
  {
   "cell_type": "code",
   "execution_count": 12,
   "id": "700cd08e-39d2-4f8a-bf04-99a2529d7b60",
   "metadata": {},
   "outputs": [],
   "source": [
    "pos_words = ['good', 'nice', 'excellent', 'positive', 'fortunate', 'correct', 'superior']\n",
    "neg_words = ['bad', 'nasty', 'poor', 'negative', 'unfortunate', 'wrong', 'inferior']"
   ]
  },
  {
   "cell_type": "markdown",
   "id": "3a3c9be4-621d-4583-b307-e8654bbf3e47",
   "metadata": {},
   "source": [
    "単語ベクトルは、gensim の事前学習済モデル (glove-wiki-gigaword-200) を用い、後の実験でも使用する [Young and Soroka](https://dataverse.harvard.edu/dataset.xhtml?persistentId=doi:10.7910/DVN/H2FEPO) コーパスで使用されている語彙を計算対象している。"
   ]
  },
  {
   "cell_type": "markdown",
   "id": "bed51aa5-a66a-439b-afe5-042ba6aebaba",
   "metadata": {},
   "source": [
    "見た感じでは、正負ともにその単語の潜在的な極性の強さに応じた連続的な数値が得られている。しかし、後述するように DensRay は、計算に使用する単語ベクトルによって極性方向が反転するという問題が起きている。"
   ]
  },
  {
   "cell_type": "code",
   "execution_count": 13,
   "id": "91dffe09-39b1-47bf-9b83-c23e6b805786",
   "metadata": {},
   "outputs": [],
   "source": [
    "import logging\n",
    "log = logging.getLogger()\n",
    "\n",
    "from densray.data import Embeddings, Lexicon\n",
    "from densray.model import DensRay, LexIndPredictor\n",
    "\n",
    "def get_densray_phi(pos_words, neg_words, wv, vocab):\n",
    "  lex_version = \"countable\"\n",
    "  \n",
    "  # train\n",
    "  embeds = Embeddings(log)\n",
    "  embeds.load_from_gensim(wv)\n",
    "  \n",
    "  Ltrain = Lexicon(log)\n",
    "  Ltrain.load_binary(pos_words, neg_words, lex_version)\n",
    "  Ltrain.remove_inconsistencies(remove_all=True)\n",
    "  Ltrain.binarise()\n",
    "  \n",
    "  embeds.filter(set([k for k, v in Ltrain.L[lex_version]]))\n",
    "  embeds.normalize()\n",
    "  \n",
    "  weights = 0.5,0.5\n",
    "  normalize_D = True\n",
    "  normalize_labels = False\n",
    "  \n",
    "  dr = DensRay(log, embeds, Ltrain)\n",
    "  dr.fit(weights=weights, model=\"binary\", normalize_D=normalize_D, normalize_labels=normalize_labels)\n",
    "  \n",
    "  T = dr.T\n",
    "  \n",
    "  embeds = Embeddings(log)\n",
    "  embeds.load_from_gensim(wv)\n",
    "  embeds.filter(set(vocab))\n",
    "  embeds.normalize()\n",
    "  \n",
    "  pred_method = \"first_dimension\"\n",
    "  dim_weights = None\n",
    "  \n",
    "  pred = LexIndPredictor(log, embeds, vocab, T)\n",
    "  pred.predict(pred_method, dim_weights=dim_weights)\n",
    "  \n",
    "  return pred.predictions"
   ]
  },
  {
   "cell_type": "code",
   "execution_count": 14,
   "id": "35416b9f-fe51-4d45-a43c-3bbe365d87da",
   "metadata": {},
   "outputs": [
    {
     "name": "stderr",
     "output_type": "stream",
     "text": [
      "                                               "
     ]
    }
   ],
   "source": [
    "dr_pred = get_densray_phi(pos_words, neg_words, wv_model, vocab)"
   ]
  },
  {
   "cell_type": "markdown",
   "id": "a2a32f5c-4b1a-4564-b610-7f3d2790da70",
   "metadata": {},
   "source": [
    "極性 $\\phi_v > 0$ の上位単語"
   ]
  },
  {
   "cell_type": "code",
   "execution_count": 15,
   "id": "3b3dbc45-0c21-4bf9-bad9-b305270fcbc3",
   "metadata": {},
   "outputs": [
    {
     "name": "stdout",
     "output_type": "stream",
     "text": [
      "excellent           \t0.4627\n",
      "impressive          \t0.3332\n",
      "enjoy               \t0.3207\n",
      "enjoyed             \t0.3115\n",
      "confident           \t0.3091\n",
      "achieved            \t0.3068\n",
      "nice                \t0.3040\n",
      "achieve             \t0.3025\n",
      "perfect             \t0.2947\n",
      "sustainable         \t0.2918\n",
      "maintain            \t0.2875\n",
      "assurance           \t0.2848\n",
      "solid               \t0.2829\n",
      "offers              \t0.2820\n",
      "consistent          \t0.2804\n",
      "accomplished        \t0.2734\n",
      "healthy             \t0.2716\n",
      "flexibility         \t0.2699\n",
      "partnership         \t0.2697\n",
      "smooth              \t0.2685\n"
     ]
    }
   ],
   "source": [
    "print(\"\\n\".join([f\"{e[0].ljust(20)}\\t{e[1]:>5,.4f}\" for e in sorted(dr_pred, key=lambda x: x[1], reverse=True)][:20]))"
   ]
  },
  {
   "cell_type": "markdown",
   "id": "0e314689-52ef-47c5-80e8-2ff5860fde0d",
   "metadata": {},
   "source": [
    "極性 $\\phi_v < 0$ の下位単語"
   ]
  },
  {
   "cell_type": "code",
   "execution_count": 16,
   "id": "aed22e7a-2e14-4f2c-bfa1-0e5eb209a587",
   "metadata": {},
   "outputs": [
    {
     "name": "stdout",
     "output_type": "stream",
     "text": [
      "blamed              \t-0.4041\n",
      "unnecessarily       \t-0.3666\n",
      "worsening           \t-0.3644\n",
      "caused              \t-0.3610\n",
      "neglect             \t-0.3580\n",
      "blame               \t-0.3515\n",
      "excesses            \t-0.3450\n",
      "causing             \t-0.3418\n",
      "worsened            \t-0.3402\n",
      "beset               \t-0.3396\n",
      "troubles            \t-0.3394\n",
      "worsen              \t-0.3375\n",
      "woes                \t-0.3287\n",
      "bad                 \t-0.3285\n",
      "terrible            \t-0.3164\n",
      "fallout             \t-0.3107\n",
      "unfair              \t-0.3093\n",
      "suffer              \t-0.3092\n",
      "worse               \t-0.3030\n",
      "turmoil             \t-0.3027\n"
     ]
    }
   ],
   "source": [
    "print(\"\\n\".join([f\"{e[0].ljust(20)}\\t{e[1]:>5,.4f}\" for e in sorted(dr_pred, key=lambda x: x[1])][:20]))"
   ]
  },
  {
   "cell_type": "markdown",
   "id": "991c7c63-89ad-42e6-97d3-484e0fda7c45",
   "metadata": {},
   "source": [
    "### 平均ベクトル間の方向ベクトルによる意味方向の設計\n",
    "PLSSでは、$S_+$ を正の極性語集合、$S_\\_$ は負の極性語集合を使って、次のように単純な計算式で $\\boldsymbol{\\beta}$ を設計している。$\\boldsymbol{\\beta}$ のノルムは 1 に正規化する。\n",
    "$$\n",
    "\\begin{align}\n",
    "\\boldsymbol{\\beta} &\\propto \\left(\\frac{1}{|S_+|}\\sum_{v \\in S_+} \\vec{v} - \\frac{1}{|S_\\_|}\\sum_{w \\in S_\\_} \\vec{w} \\right)\n",
    "\\end{align}\n",
    "$$"
   ]
  },
  {
   "cell_type": "code",
   "execution_count": 17,
   "id": "a91c62b3-88f4-4e9c-9e05-784e2ebfd3d8",
   "metadata": {},
   "outputs": [],
   "source": [
    "def get_plss_phi(pos_words, neg_words, wv, vocab):\n",
    "\n",
    "    normed_vec = wv.get_normed_vectors()\n",
    "    key2index = wv.key_to_index\n",
    "        \n",
    "    def calc_beta(pos_words, neg_words):\n",
    "        def mean_vec(words):\n",
    "            return np.array([normed_vec[key2index[v]] for v in words if v in key2index]).mean(axis=0)\n",
    "        \n",
    "        beta = mean_vec(pos_words) - mean_vec(neg_words)\n",
    "        beta = beta/np.linalg.norm(beta)\n",
    "        return beta\n",
    "\n",
    "    beta = calc_beta(pos_words, neg_words)  \n",
    "    phi = [(v, beta @ normed_vec[key2index[v]] if v in key2index else 0) for v in vocab]\n",
    "    return phi"
   ]
  },
  {
   "cell_type": "code",
   "execution_count": 18,
   "id": "2d7ec707-60c2-43bb-a35b-480196a911a6",
   "metadata": {},
   "outputs": [],
   "source": [
    "plss_pred = get_plss_phi(pos_words, neg_words, wv_model, vocab)"
   ]
  },
  {
   "cell_type": "markdown",
   "id": "6a71455e-3c44-41a0-b7cd-2fddde6520a1",
   "metadata": {},
   "source": [
    "極性 $\\phi_v > 0$ の上位単語"
   ]
  },
  {
   "cell_type": "code",
   "execution_count": 19,
   "id": "3aade8b4-46f2-4797-a7bf-054995c7a858",
   "metadata": {},
   "outputs": [
    {
     "name": "stdout",
     "output_type": "stream",
     "text": [
      "excellent           \t0.4786\n",
      "impressive          \t0.3414\n",
      "achieved            \t0.3111\n",
      "enjoy               \t0.3057\n",
      "achieve             \t0.3038\n",
      "enjoyed             \t0.3037\n",
      "sustainable         \t0.2995\n",
      "confident           \t0.2953\n",
      "maintain            \t0.2902\n",
      "perfect             \t0.2876\n",
      "offers              \t0.2873\n",
      "nice                \t0.2836\n",
      "assurance           \t0.2834\n",
      "outstanding         \t0.2817\n",
      "consistent          \t0.2804\n",
      "solid               \t0.2803\n",
      "accomplished        \t0.2784\n",
      "provides            \t0.2766\n",
      "flexibility         \t0.2761\n",
      "establish           \t0.2720\n"
     ]
    }
   ],
   "source": [
    "for word, polarity in sorted(plss_pred, key=lambda x: x[1], reverse=True)[:20]:\n",
    "    print(f\"{word.ljust(20)}\\t{polarity:>5,.4f}\")"
   ]
  },
  {
   "cell_type": "markdown",
   "id": "8fadb15a-d571-45bf-af2d-88730fe55bac",
   "metadata": {},
   "source": [
    "極性 $\\phi_v < 0$ の下位単語"
   ]
  },
  {
   "cell_type": "code",
   "execution_count": 20,
   "id": "c6ad3b9f-9b4f-4598-b44c-c8a39fc9749e",
   "metadata": {},
   "outputs": [
    {
     "name": "stdout",
     "output_type": "stream",
     "text": [
      "blamed              \t-0.3925\n",
      "unnecessarily       \t-0.3701\n",
      "worsening           \t-0.3598\n",
      "neglect             \t-0.3542\n",
      "caused              \t-0.3524\n",
      "blame               \t-0.3408\n",
      "beset               \t-0.3403\n",
      "excesses            \t-0.3401\n",
      "worsen              \t-0.3384\n",
      "causing             \t-0.3351\n",
      "troubles            \t-0.3322\n",
      "worsened            \t-0.3296\n",
      "bad                 \t-0.3253\n",
      "terrible            \t-0.3213\n",
      "fallout             \t-0.3190\n",
      "woes                \t-0.3149\n",
      "turmoil             \t-0.3069\n",
      "fearful             \t-0.3065\n",
      "suffer              \t-0.3056\n",
      "worse               \t-0.3042\n"
     ]
    }
   ],
   "source": [
    "for word, polarity in sorted(plss_pred, key=lambda x: x[1])[:20]:\n",
    "    print(f\"{word.ljust(20)}\\t{polarity:>5,.4f}\")"
   ]
  },
  {
   "cell_type": "markdown",
   "id": "08d7ad58-937f-4a1f-a575-80315280b825",
   "metadata": {},
   "source": [
    "### コサイン類似度による意味方向の設計\n",
    "論文には書かれていないが、ナイーブな設計としてコサイン類似度を用いる方法"
   ]
  },
  {
   "cell_type": "code",
   "execution_count": 21,
   "id": "7526c971-b822-42c0-9213-188014546df5",
   "metadata": {},
   "outputs": [],
   "source": [
    "def get_cos_phi(pos_words, neg_words, wv, vocab):\n",
    "    normed_vec = wv.get_normed_vectors()\n",
    "    key2index = wv.key_to_index\n",
    "\n",
    "    def mean_vec(words):\n",
    "        return np.array([normed_vec[key2index[v]] for v in words if v in key2index]).mean(axis=0)\n",
    "\n",
    "    pos_vec = mean_vec(pos_words)\n",
    "    neg_vec = mean_vec(neg_words)\n",
    "\n",
    "    pos_score = normed_vec @ pos_vec\n",
    "    neg_score = normed_vec @ neg_vec\n",
    "    phi = (-neg_score + pos_score)/2\n",
    "\n",
    "    v_phi = [(v, phi[key2index[v]] if v in key2index else 0) for v in vocab]\n",
    "\n",
    "    return v_phi"
   ]
  },
  {
   "cell_type": "code",
   "execution_count": 22,
   "id": "dbe098c0-0419-4e4e-bc7f-df9bc466e0e4",
   "metadata": {},
   "outputs": [],
   "source": [
    "cos_pred = get_cos_phi(pos_words, neg_words, wv_model, vocab)"
   ]
  },
  {
   "cell_type": "markdown",
   "id": "35eaba5d-ba69-41c0-b2c7-df8c7159bf0c",
   "metadata": {},
   "source": [
    "極性 $\\phi_v > 0$ の上位単語"
   ]
  },
  {
   "cell_type": "code",
   "execution_count": 23,
   "id": "56ce3118-d217-4b30-bf22-4beb59945855",
   "metadata": {},
   "outputs": [
    {
     "name": "stdout",
     "output_type": "stream",
     "text": [
      "excellent           \t0.1201\n",
      "impressive          \t0.0856\n",
      "achieved            \t0.0781\n",
      "enjoy               \t0.0767\n",
      "achieve             \t0.0762\n",
      "enjoyed             \t0.0762\n",
      "sustainable         \t0.0751\n",
      "confident           \t0.0741\n",
      "maintain            \t0.0728\n",
      "perfect             \t0.0722\n",
      "offers              \t0.0721\n",
      "nice                \t0.0712\n",
      "assurance           \t0.0711\n",
      "outstanding         \t0.0707\n",
      "consistent          \t0.0704\n",
      "solid               \t0.0703\n",
      "accomplished        \t0.0699\n",
      "provides            \t0.0694\n",
      "flexibility         \t0.0693\n",
      "establish           \t0.0682\n"
     ]
    }
   ],
   "source": [
    "print(\"\\n\".join([f\"{e[0].ljust(20)}\\t{e[1]:>5,.4f}\" for e in sorted(cos_pred, key=lambda x: x[1], reverse=True)][:20]))"
   ]
  },
  {
   "cell_type": "markdown",
   "id": "bf9e9711-a189-4842-87db-3030729582c0",
   "metadata": {},
   "source": [
    "極性 $\\phi_v < 0$ の下位単語"
   ]
  },
  {
   "cell_type": "code",
   "execution_count": 24,
   "id": "2fc97c3e-6857-4f0f-8409-a809851a08dc",
   "metadata": {},
   "outputs": [
    {
     "name": "stdout",
     "output_type": "stream",
     "text": [
      "blamed              \t-0.0985\n",
      "unnecessarily       \t-0.0928\n",
      "worsening           \t-0.0903\n",
      "neglect             \t-0.0889\n",
      "caused              \t-0.0884\n",
      "blame               \t-0.0855\n",
      "beset               \t-0.0854\n",
      "excesses            \t-0.0853\n",
      "worsen              \t-0.0849\n",
      "causing             \t-0.0841\n",
      "troubles            \t-0.0834\n",
      "worsened            \t-0.0827\n",
      "bad                 \t-0.0816\n",
      "terrible            \t-0.0806\n",
      "fallout             \t-0.0800\n",
      "woes                \t-0.0790\n",
      "turmoil             \t-0.0770\n",
      "fearful             \t-0.0769\n",
      "suffer              \t-0.0767\n",
      "worse               \t-0.0763\n"
     ]
    }
   ],
   "source": [
    "print(\"\\n\".join([f\"{e[0].ljust(20)}\\t{e[1]:>5,.4f}\" for e in sorted(cos_pred, key=lambda x: x[1])][:20]))"
   ]
  },
  {
   "cell_type": "code",
   "execution_count": 25,
   "id": "8dc06a57-aae8-4726-85ed-f795cf83efe6",
   "metadata": {},
   "outputs": [
    {
     "name": "stderr",
     "output_type": "stream",
     "text": [
      "                                               "
     ]
    }
   ],
   "source": [
    "#| warning: false\n",
    "\n",
    "def get_phi_val(pred):\n",
    "  return np.array([e[1] for e in pred])\n",
    "\n",
    "\n",
    "wv_model = api.load(\"glove-wiki-gigaword-50\")\n",
    "phi_dr_giga50 = get_phi_val(get_densray_phi(pos_words, neg_words, wv_model, vocab))\n",
    "phi_plss_giga50 = get_phi_val(get_plss_phi(pos_words, neg_words, wv_model, vocab))\n",
    "phi_cos_giga50 = get_phi_val(get_cos_phi(pos_words, neg_words, wv_model, vocab))\n",
    "\n",
    "wv_model = api.load(\"glove-wiki-gigaword-300\")\n",
    "phi_dr_giga300 = get_phi_val(get_densray_phi(pos_words, neg_words, wv_model, vocab))\n",
    "phi_plss_giga300 = get_phi_val(get_plss_phi(pos_words, neg_words, wv_model, vocab))\n",
    "phi_cos_giga300 = get_phi_val(get_cos_phi(pos_words, neg_words, wv_model, vocab))\n",
    "\n",
    "# Err. ContentTooShortError: <urlopen error retrieval incomplete: got only 608174080 out of 1743563840 bytes>\n",
    "#wv_model = api.load(\"word2vec-google-news-300\")\n",
    "#phi_dr_gnews300 = get_phi_val(get_densray_phi(pos_words, neg_words, wv_model, vocab))\n",
    "#phi_plss_gnews300 = get_phi_val(get_plss_phi(pos_words, neg_words, wv_model, vocab))\n",
    "#phi_cos_gnews300 = get_phi_val(get_cos_phi(pos_words, neg_words, wv_model, vocab))"
   ]
  },
  {
   "cell_type": "code",
   "execution_count": 26,
   "id": "ecc6dc6e-5683-42e3-81b9-026bbb152af5",
   "metadata": {},
   "outputs": [
    {
     "name": "stdout",
     "output_type": "stream",
     "text": [
      "  % Total    % Received % Xferd  Average Speed   Time    Time     Time  Current\n",
      "                                 Dload  Upload   Total   Spent    Left  Speed\n",
      "100  1355  100  1355    0     0   2938      0 --:--:-- --:--:-- --:--:--  2939\n",
      "100  173M  100  173M    0     0  21.4M      0  0:00:08  0:00:08 --:--:-- 32.9M\n",
      "  % Total    % Received % Xferd  Average Speed   Time    Time     Time  Current\n",
      "                                 Dload  Upload   Total   Spent    Left  Speed\n",
      "100  1377  100  1377    0     0   4092      0 --:--:-- --:--:-- --:--:--  4086\n",
      "100 3433M  100 3433M    0     0  32.7M      0  0:01:44  0:01:44 --:--:-- 41.9M\n"
     ]
    }
   ],
   "source": [
    "# wa. ContentTooShortError: <urlopen error retrieval incomplete: got only 608174080 out of 1743563840 bytes>\n",
    "!curl -L -o ../data/word2vec-google-news-300.model \"https://huggingface.co/fse/word2vec-google-news-300/resolve/main/word2vec-google-news-300.model?download=true\"\n",
    "!curl -L -o ../data/word2vec-google-news-300.model.vectors.npy \"https://huggingface.co/fse/word2vec-google-news-300/resolve/main/word2vec-google-news-300.model.vectors.npy?download=true\""
   ]
  },
  {
   "cell_type": "code",
   "execution_count": 27,
   "id": "ba29c0bd-899a-47a2-8a42-008836741adb",
   "metadata": {},
   "outputs": [
    {
     "name": "stderr",
     "output_type": "stream",
     "text": [
      "                                               "
     ]
    }
   ],
   "source": [
    "import gensim\n",
    "\n",
    "wv_model = gensim.models.KeyedVectors.load(\"../data/word2vec-google-news-300.model\")\n",
    "\n",
    "phi_dr_gnews300 = get_phi_val(get_densray_phi(pos_words, neg_words, wv_model, vocab))\n",
    "phi_plss_gnews300 = get_phi_val(get_plss_phi(pos_words, neg_words, wv_model, vocab))\n",
    "phi_cos_gnews300 = get_phi_val(get_cos_phi(pos_words, neg_words, wv_model, vocab))"
   ]
  },
  {
   "cell_type": "code",
   "execution_count": 28,
   "id": "b97a9000-fbe6-437d-8757-c431a09b7a5d",
   "metadata": {},
   "outputs": [],
   "source": [
    "%R -i N,M,V,D,W,p_v\n",
    "%R -i phi_cos_giga50,phi_dr_giga50,phi_plss_giga50,phi_cos_giga300,phi_dr_giga300,phi_plss_giga300\n",
    "%R -i phi_cos_gnews300,phi_dr_gnews300,phi_plss_gnews300"
   ]
  },
  {
   "cell_type": "code",
   "execution_count": 29,
   "id": "a1451784-f68e-4ee0-b36c-5912a3c81ae7",
   "metadata": {},
   "outputs": [],
   "source": [
    "%%R\n",
    "data <- list(\n",
    "  N=N,\n",
    "  M=M,\n",
    "  V=V,\n",
    "  D=D+1,\n",
    "  W=W+1,\n",
    "  p_v=p_v\n",
    ")"
   ]
  },
  {
   "cell_type": "code",
   "execution_count": 30,
   "id": "f1d3e8b3-ed70-4f7a-882d-4f7151a2781e",
   "metadata": {},
   "outputs": [
    {
     "name": "stdout",
     "output_type": "stream",
     "text": [
      "\n",
      "data {\n",
      "  int<lower=1> M;                    // num docs\n",
      "  int<lower=1> V;                    // num words\n",
      "  int<lower=1> N;                    // total word instances\n",
      "  int<lower=1,upper=V> W[N];         // word n\n",
      "  int<lower=1> D[N];                 // doc id\n",
      "  vector[V] p_v;                     // word prob\n",
      "  vector[V] phi;                     // word polarity\n",
      "}\n",
      "\n",
      "parameters {\n",
      "  vector[M] theta;\n",
      "}\n",
      "\n",
      "model {\n",
      "  theta ~ normal(0, 1);\n",
      "  for (n in 1:N)\n",
      "    W[n] ~ categorical_logit(log(p_v) + phi * theta[D[n]]);\n",
      "}\n"
     ]
    }
   ],
   "source": [
    "!cat ./plss.stan"
   ]
  },
  {
   "cell_type": "code",
   "execution_count": 31,
   "id": "974b7385-0103-4ef7-8d4c-4dec7455d60e",
   "metadata": {},
   "outputs": [
    {
     "data": {
      "text/plain": [
       "(65276, 450, 4447)"
      ]
     },
     "execution_count": 31,
     "metadata": {},
     "output_type": "execute_result"
    }
   ],
   "source": [
    "N, M, V"
   ]
  },
  {
   "cell_type": "code",
   "execution_count": 32,
   "id": "37c0520d-e225-472f-98de-e3a1395eee44",
   "metadata": {},
   "outputs": [],
   "source": [
    "%%R\n",
    "stanmodel <- stan_model(file=\"./plss.stan\")"
   ]
  },
  {
   "cell_type": "code",
   "execution_count": 33,
   "id": "01d847ac-23f4-4a53-9a9f-c2636204dacd",
   "metadata": {},
   "outputs": [
    {
     "name": "stdout",
     "output_type": "stream",
     "text": [
      "Chain 1: Initial log joint probability = -506297\n",
      "Chain 1:     Iter      log prob        ||dx||      ||grad||       alpha      alpha0  # evals  Notes \n",
      "Chain 1:       10       -504624      0.022395     0.0298096      0.8783      0.8783       14   \n",
      "Chain 1: Optimization terminated normally: \n",
      "Chain 1:   Convergence detected: relative gradient magnitude is below tolerance\n",
      "Chain 1: Initial log joint probability = -506330\n",
      "Chain 1:     Iter      log prob        ||dx||      ||grad||       alpha      alpha0  # evals  Notes \n",
      "Chain 1:       11       -504636     0.0172372      0.046787      0.4696      0.9305       16   \n",
      "Chain 1: Optimization terminated normally: \n",
      "Chain 1:   Convergence detected: relative gradient magnitude is below tolerance\n",
      "Chain 1: Initial log joint probability = -505618\n",
      "Chain 1:     Iter      log prob        ||dx||      ||grad||       alpha      alpha0  # evals  Notes \n",
      "Chain 1:        3       -505156      0.140083     0.0314875           1           1        6   \n",
      "Chain 1: Optimization terminated normally: \n",
      "Chain 1:   Convergence detected: relative gradient magnitude is below tolerance\n",
      "Chain 1: Initial log joint probability = -505840\n",
      "Chain 1:     Iter      log prob        ||dx||      ||grad||       alpha      alpha0  # evals  Notes \n",
      "Chain 1:        8       -504951     0.0306407      0.026795           1           1       11   \n",
      "Chain 1: Optimization terminated normally: \n",
      "Chain 1:   Convergence detected: relative gradient magnitude is below tolerance\n",
      "Chain 1: Initial log joint probability = -505871\n",
      "Chain 1:     Iter      log prob        ||dx||      ||grad||       alpha      alpha0  # evals  Notes \n",
      "Chain 1:        8       -504944     0.0463765     0.0332285           1           1       11   \n",
      "Chain 1: Optimization terminated normally: \n",
      "Chain 1:   Convergence detected: relative gradient magnitude is below tolerance\n",
      "Chain 1: Initial log joint probability = -505600\n",
      "Chain 1:     Iter      log prob        ||dx||      ||grad||       alpha      alpha0  # evals  Notes \n",
      "Chain 1:        3       -505219     0.0459178      0.006249           1           1        6   \n",
      "Chain 1: Optimization terminated normally: \n",
      "Chain 1:   Convergence detected: relative gradient magnitude is below tolerance\n",
      "Chain 1: Initial log joint probability = -505845\n",
      "Chain 1:     Iter      log prob        ||dx||      ||grad||       alpha      alpha0  # evals  Notes \n",
      "Chain 1:        8       -505014     0.0455779     0.0239624           1           1       11   \n",
      "Chain 1: Optimization terminated normally: \n",
      "Chain 1:   Convergence detected: relative gradient magnitude is below tolerance\n",
      "Chain 1: Initial log joint probability = -505835\n",
      "Chain 1:     Iter      log prob        ||dx||      ||grad||       alpha      alpha0  # evals  Notes \n",
      "Chain 1:        7       -505013     0.0948952     0.0404101           1           1       10   \n",
      "Chain 1: Optimization terminated normally: \n",
      "Chain 1:   Convergence detected: relative gradient magnitude is below tolerance\n",
      "Chain 1: Initial log joint probability = -505596\n",
      "Chain 1:     Iter      log prob        ||dx||      ||grad||       alpha      alpha0  # evals  Notes \n",
      "Chain 1:        3       -505223     0.0408607    0.00414046           1           1        6   \n",
      "Chain 1: Optimization terminated normally: \n",
      "Chain 1:   Convergence detected: relative gradient magnitude is below tolerance\n"
     ]
    }
   ],
   "source": [
    "%%R\n",
    "# !approximately 40GB or more RAM required\n",
    "\n",
    "data$phi <- phi_dr_giga50\n",
    "fit_dr_giga50 <- optimizing(stanmodel, data=data, seed=1234, verbose = TRUE)\n",
    "\n",
    "data$phi <- phi_plss_giga50\n",
    "fit_plss_giga50 <- optimizing(stanmodel, data=data, seed=1234, verbose = TRUE)\n",
    "\n",
    "data$phi <- phi_cos_giga50\n",
    "fit_cos_giga50 <- optimizing(stanmodel, data=data, seed=1234, verbose = TRUE)\n",
    "\n",
    "data$phi <- phi_dr_giga300\n",
    "fit_dr_giga300 <- optimizing(stanmodel, data=data, seed=1234, verbose = TRUE)\n",
    "\n",
    "data$phi <- phi_plss_giga300\n",
    "fit_plss_giga300 <- optimizing(stanmodel, data=data, seed=1234, verbose = TRUE)\n",
    "\n",
    "data$phi <- phi_cos_giga300\n",
    "fit_cos_giga300 <- optimizing(stanmodel, data=data, seed=1234, verbose = TRUE)\n",
    "\n",
    "data$phi <- phi_dr_gnews300\n",
    "fit_dr_gnews300 <- optimizing(stanmodel, data=data, seed=1234, verbose = TRUE)\n",
    "\n",
    "data$phi <- phi_plss_gnews300\n",
    "fit_plss_gnews300 <- optimizing(stanmodel, data=data, seed=1234, verbose = TRUE)\n",
    "\n",
    "data$phi <- phi_cos_gnews300\n",
    "fit_cos_gnews300 <- optimizing(stanmodel, data=data, seed=1234, verbose = TRUE)"
   ]
  },
  {
   "cell_type": "code",
   "execution_count": 34,
   "id": "2dc33ef3-d89e-4014-8801-8af002d81eb7",
   "metadata": {},
   "outputs": [],
   "source": [
    "%%R\n",
    "boxplot <- function(ys, fit, name) {\n",
    "  theta <- names(fit$par) %>% \n",
    "    str_detect('theta') %>% \n",
    "    keep(fit$par, .)\n",
    "  \n",
    "  result <- tibble(\n",
    "    scale = ys$scale,\n",
    "    theta = theta\n",
    "  )\n",
    "  #ggplot(data = result, mapping = aes(x = theta)) +\n",
    "  #  geom_histogram(bins = 50)\n",
    "  \n",
    "  gg <- ggplot(data = result, mapping = aes(x = theta, y = scale, group = scale)) +\n",
    "#    geom_boxplot(outlier.size = 2,\n",
    "#                 outlier.shape = 21,\n",
    "#                 outlier.colour = \"red\") +\n",
    "    geom_boxplot(outlier.colour = NA) +\n",
    "    geom_point(size = 1.0, position = position_jitter(width = 0.2, height = 0.2, seed = 123L)) +\n",
    "    labs(title = paste(name, \" (corr\", \" = \", round(cor(ys$scale, theta, method=\"pearson\"), digits = 3), \")\"),\n",
    "         x = \"theta\",\n",
    "         y = \"human\")\n",
    "  return(gg)\n",
    "}"
   ]
  },
  {
   "cell_type": "code",
   "execution_count": 35,
   "id": "9c82e20e-76f8-422b-8504-7781868a950e",
   "metadata": {},
   "outputs": [],
   "source": [
    "%%R\n",
    "g_dr_giga50 <- boxplot(ys, fit_dr_giga50, \"DensRay giga50\")\n",
    "g_plss_giga50 <- boxplot(ys, fit_plss_giga50, \"PLSS giga50\")\n",
    "g_cos_giga50 <- boxplot(ys, fit_cos_giga50, \"Cosine giga50\")\n",
    "g_dr_giga300 <- boxplot(ys, fit_dr_giga300, \"DensRay giga300\")\n",
    "g_plss_giga300 <- boxplot(ys, fit_plss_giga300, \"PLSS giga300\")\n",
    "g_cos_giga300 <- boxplot(ys, fit_cos_giga300, \"Cosine giga300\")\n",
    "g_dr_gnews300 <- boxplot(ys, fit_dr_gnews300, \"DensRay gnew300\")\n",
    "g_plss_gnews300 <- boxplot(ys, fit_plss_gnews300, \"PLSS gnew300\")\n",
    "g_cos_gnews300 <- boxplot(ys, fit_cos_gnews300, \"Cosine gnew300\")"
   ]
  },
  {
   "cell_type": "markdown",
   "id": "f7fb12b0-fb5f-44b4-b32d-afe357cf28dc",
   "metadata": {},
   "source": [
    "## 人手評価データを用いた実験\n",
    "[Young and Soroka](https://dataverse.harvard.edu/dataset.xhtml?persistentId=doi:10.7910/DVN/H2FEPO) コーパス（LSS の実験に合わせて経済トピックを使用）を用いて、2 つの意味方向の設計を用いて推定された文書極性 $\\theta$ を人手評価と比較する。使用する単語ベクトルは次の３つ。\n",
    " \n",
    "- glove-wiki-gigaword-50\n",
    "- glove-wiki-gigaword-300\n",
    "- word2vec-google-news-300\"\n",
    " \n",
    "今回パラメータは、点推定（MAP推定）している。分布推定は、変分推論が 5, 6 時間程度、mcmc は返ってこない（要 PPL の勉強）\n",
    " \n",
    "結果を見ると、PLSS, Cosine では人手評価と正の相関のある文書極性 $\\theta$ が得られている。が、見るとわかるように DensRay において、意味方向が反転してしまうという事象が発生（原因不明）。因みに、PLSS の論文では、160 万文の New York Times 記事から Word2Vec で学習した 100 次元の単語ベクトルを用いて相関係数は 0.24 とされている。\n"
   ]
  },
  {
   "cell_type": "code",
   "execution_count": 36,
   "id": "1b5122aa-79f7-4af1-a8d4-3fa0e346d95a",
   "metadata": {},
   "outputs": [
    {
     "data": {
      "image/png": "[encoded data removed]",
      "text/plain": [
       "<IPython.core.display.Image object>"
      ]
     },
     "metadata": {},
     "output_type": "display_data"
    }
   ],
   "source": [
    "%%R -w 25 -h 30 --units cm\n",
    "gridExtra::grid.arrange(g_dr_giga50, g_plss_giga50, g_cos_giga50, g_dr_gnews300, g_plss_gnews300, g_cos_gnews300, g_dr_giga300, g_plss_giga300, g_cos_giga300, ncol = 3);"
   ]
  },
  {
   "cell_type": "markdown",
   "id": "35b50927-5f5c-4348-b4df-7008955f8232",
   "metadata": {},
   "source": [
    "## 未確認項目\n",
    "\n",
    "今回は、少量の極性辞書を用いることで、単語極性の意味方向 $\\boldsymbol{\\beta}$ を設計したが、こうした辞書が分析対象について自明に作成できるとはかぎらない。  \n",
    "PLSS では、そうした場合でも典型的な「正例」テキストと「負例」テキストは示せることが多いとして、それらを用いて $\\boldsymbol{\\beta}$ を推定する方法を提案している。  \n",
    " \n",
    "テキストの連続的な尺度を推定できるようになったとして、分析対象のテキストをどうやって抽出するかという問題が残る。  \n",
    "PLSS では、背景分布を持つ LDA とニューラル文書ベクトルを用いて、各テキストが分析したいキーワード集合に関係する「関係確率」を求めることで分析対象のテキストを客観的に抽出する手法を提案している。"
   ]
  },
  {
   "cell_type": "code",
   "execution_count": null,
   "id": "109fcc82-6878-42fe-b186-1cbc8fa62238",
   "metadata": {},
   "outputs": [],
   "source": []
  }
 ],
 "metadata": {
  "jupytext": {
   "encoding": "# -*- coding: utf-8 -*-",
   "formats": "ipynb,py:light"
  },
  "kernelspec": {
   "display_name": "Python 3 (ipykernel)",
   "language": "python",
   "name": "python3"
  },
  "language_info": {
   "codemirror_mode": {
    "name": "ipython",
    "version": 3
   },
   "file_extension": ".py",
   "mimetype": "text/x-python",
   "name": "python",
   "nbconvert_exporter": "python",
   "pygments_lexer": "ipython3",
   "version": "3.10.12"
  }
 },
 "nbformat": 4,
 "nbformat_minor": 5
}
